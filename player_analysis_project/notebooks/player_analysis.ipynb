{
 "cells": [
  {
   "cell_type": "markdown",
   "id": "e13f87ae",
   "metadata": {},
   "source": [
    "**import packages**\n",
    "\n",
    "we need to import some packages"
   ]
  },
  {
   "cell_type": "code",
   "execution_count": 5,
   "id": "578e08f2",
   "metadata": {},
   "outputs": [],
   "source": [
    "from pathlib import Path\n",
    "import pandas as pd\n",
    "import matplotlib.pyplot as plt\n",
    "import seaborn as sns"
   ]
  },
  {
   "cell_type": "markdown",
   "id": "c1c97b35",
   "metadata": {},
   "source": [
    "**import our data**\n",
    "\n",
    "we use csv file called \"top5_leagues_players_2023.csv\" for this analys"
   ]
  },
  {
   "cell_type": "code",
   "execution_count": 7,
   "id": "5f34519e",
   "metadata": {},
   "outputs": [],
   "source": [
    "players_data = Path(\"../data/top5_leagues_players_2023.csv\")\n",
    "df = pd.read_csv(players_data)"
   ]
  },
  {
   "cell_type": "markdown",
   "id": "84e9174b",
   "metadata": {},
   "source": [
    "**describe our data file**\n",
    "\n",
    "first of all we should print some information about data file"
   ]
  },
  {
   "cell_type": "code",
   "execution_count": null,
   "id": "ce7a5d3b",
   "metadata": {},
   "outputs": [],
   "source": [
    "print(df.head())\n",
    "print(df.info())\n",
    "print(df.describe())\n",
    "print(df.corr(numeric_only=True))\n",
    "print(df.isnull().sum())"
   ]
  },
  {
   "cell_type": "markdown",
   "id": "8879ed6c",
   "metadata": {},
   "source": [
    "**Classification of players based on data**\n",
    "\n",
    "We define a new criterion for classifying and scoring players."
   ]
  },
  {
   "cell_type": "code",
   "execution_count": null,
   "id": "93d986c8",
   "metadata": {},
   "outputs": [],
   "source": [
    "df[\"custom_rating\"] = (\n",
    "    df[\"goals\"] * 4 +\n",
    "    df[\"assists\"] * 3 +\n",
    "    df[\"shots\"] * 0.5 -\n",
    "    df[\"yellow_cards\"] -\n",
    "    df[\"red_cards\"] * 3\n",
    ")\n",
    "top_player = df.sort_values(by=\"custom_rating\",ascending=False).head(1)\n",
    "print(top_player[[\"name\",\"club\",\"age\",\"goals\",\"assists\",\"custom_rating\"]])"
   ]
  },
  {
   "cell_type": "markdown",
   "id": "1c86b4a8",
   "metadata": {},
   "source": [
    "**compare positions**\n",
    "\n",
    "now we can compare positions with each other"
   ]
  },
  {
   "cell_type": "code",
   "execution_count": null,
   "id": "5988141b",
   "metadata": {},
   "outputs": [],
   "source": [
    "position_stats = df.groupby(\"position\").agg({\n",
    "    \"goals\": \"mean\",\n",
    "    \"assists\": \"mean\",\n",
    "    \"custom_rating\": \"mean\"\n",
    "}).sort_values(by=\"custom_rating\", ascending=False)\n",
    "print(position_stats)"
   ]
  },
  {
   "cell_type": "markdown",
   "id": "36151205",
   "metadata": {},
   "source": [
    "**showig this comparing by chart**\n",
    "\n",
    "now we can visualizate \"position_stats\" variable using seaborn"
   ]
  },
  {
   "cell_type": "code",
   "execution_count": null,
   "id": "150886c3",
   "metadata": {},
   "outputs": [],
   "source": [
    "goals_by_position = df.groupby(\"position\")[\"goals\"].sum().sort_values(ascending=False)\n",
    "sns.barplot(x=goals_by_position.values, y=goals_by_position.index)\n",
    "plt.title(\"Total Goals by Position\")\n",
    "plt.xlabel(\"Goals\")\n",
    "plt.ylabel(\"Position\")\n",
    "plt.tight_layout()\n",
    "plt.show()"
   ]
  },
  {
   "cell_type": "markdown",
   "id": "de5eeb6d",
   "metadata": {},
   "source": [
    "**Now we show the relationship between minutes played and score.**\n"
   ]
  },
  {
   "cell_type": "code",
   "execution_count": null,
   "id": "83a5d2d5",
   "metadata": {},
   "outputs": [],
   "source": [
    "sns.scatterplot(x=\"minutes\", y=\"custom_rating\", data=df)\n",
    "plt.title(\"Rating vs Minutes Played\")\n",
    "plt.xlabel(\"Minutes Played\")\n",
    "plt.ylabel(\"Custom Rating\")\n",
    "plt.tight_layout()\n",
    "plt.show()"
   ]
  },
  {
   "cell_type": "markdown",
   "id": "29cd32a8",
   "metadata": {},
   "source": [
    "**finishing analys by showing correlation matrix between variables**"
   ]
  },
  {
   "cell_type": "code",
   "execution_count": null,
   "id": "e18eb414",
   "metadata": {},
   "outputs": [],
   "source": [
    "sns.heatmap(df.corr(numeric_only=True), annot=True, cmap=\"coolwarm\")\n",
    "plt.title(\"Correlation Matrix\")\n",
    "plt.tight_layout()\n",
    "plt.show()"
   ]
  }
 ],
 "metadata": {
  "kernelspec": {
   "display_name": "Python 3",
   "language": "python",
   "name": "python3"
  },
  "language_info": {
   "codemirror_mode": {
    "name": "ipython",
    "version": 3
   },
   "file_extension": ".py",
   "mimetype": "text/x-python",
   "name": "python",
   "nbconvert_exporter": "python",
   "pygments_lexer": "ipython3",
   "version": "3.12.6"
  }
 },
 "nbformat": 4,
 "nbformat_minor": 5
}
